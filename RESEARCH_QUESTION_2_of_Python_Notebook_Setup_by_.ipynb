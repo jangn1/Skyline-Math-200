{
  "nbformat": 4,
  "nbformat_minor": 0,
  "metadata": {
    "colab": {
      "provenance": [],
      "include_colab_link": true
    },
    "kernelspec": {
      "name": "python3",
      "display_name": "Python 3"
    },
    "language_info": {
      "name": "python"
    }
  },
  "cells": [
    {
      "cell_type": "markdown",
      "metadata": {
        "id": "view-in-github",
        "colab_type": "text"
      },
      "source": [
        "<a href=\"https://colab.research.google.com/github/jangn1/Skyline-Math-200/blob/main/RESEARCH_QUESTION_2_of_Python_Notebook_Setup_by_.ipynb\" target=\"_parent\"><img src=\"https://colab.research.google.com/assets/colab-badge.svg\" alt=\"Open In Colab\"/></a>"
      ]
    },
    {
      "cell_type": "markdown",
      "source": [
        "Research Question # _2:_ : Include question here: Is there an association between current weight in pounds and if someone has been in the military?\n",
        "\n"
      ],
      "metadata": {
        "id": "RaflRRFg5e8L"
      }
    },
    {
      "cell_type": "code",
      "execution_count": 57,
      "metadata": {
        "id": "U2T9urK-5ZAe"
      },
      "outputs": [],
      "source": [
        "import pandas as pd\n",
        "import matplotlib.pyplot as plt\n",
        "import seaborn as sns"
      ]
    },
    {
      "cell_type": "code",
      "source": [
        "url='https://drive.google.com/file/d/1IbHzUMYKFBkmW3TIvryP7XJlW-WkmGEw/view?usp=sharing'\n",
        "path= 'https://drive.google.com/uc?export=download&id='+url.split('/')[-2]\n",
        "df = pd.read_csv(path)\n",
        "df.head()"
      ],
      "metadata": {
        "id": "Hq7jBgXZ5p7g",
        "colab": {
          "base_uri": "https://localhost:8080/",
          "height": 235
        },
        "outputId": "fb8b4e19-4049-4545-9743-05fe7f3ba607"
      },
      "execution_count": 58,
      "outputs": [
        {
          "output_type": "execute_result",
          "data": {
            "text/plain": [
              "       AID  BIO_SEX        agew1 IMONTH4 IDAY4 IYEAR4   MACNO4 INTID4  \\\n",
              "0  5710027        2                                                     \n",
              "1  5710131        2  19.42739726       5     6   2008  2288160    160   \n",
              "2  5710317        1                                                     \n",
              "3  5710386        1  20.43013699       5    22   2008  2288238    238   \n",
              "4  5710455        2                                                     \n",
              "\n",
              "  BIO_SEX4 VERSION4  ... H4EO5C H4EO5D H4EO5E H4EO5F H4EO5G H4EO5H H4EO5I  \\\n",
              "0                    ...                                                    \n",
              "1        2     V5.4  ...      0      0      0      0      0      0      0   \n",
              "2                    ...                                                    \n",
              "3        1     V5.4  ...      0      0      0      0      0      0      0   \n",
              "4                    ...                                                    \n",
              "\n",
              "  H4EO5J H4EO6 H4EO7  \n",
              "0                     \n",
              "1      0     2     1  \n",
              "2                     \n",
              "3      0     4     1  \n",
              "4                     \n",
              "\n",
              "[5 rows x 976 columns]"
            ],
            "text/html": [
              "\n",
              "  <div id=\"df-073d3398-a494-42af-89fe-3f1629b95ba8\">\n",
              "    <div class=\"colab-df-container\">\n",
              "      <div>\n",
              "<style scoped>\n",
              "    .dataframe tbody tr th:only-of-type {\n",
              "        vertical-align: middle;\n",
              "    }\n",
              "\n",
              "    .dataframe tbody tr th {\n",
              "        vertical-align: top;\n",
              "    }\n",
              "\n",
              "    .dataframe thead th {\n",
              "        text-align: right;\n",
              "    }\n",
              "</style>\n",
              "<table border=\"1\" class=\"dataframe\">\n",
              "  <thead>\n",
              "    <tr style=\"text-align: right;\">\n",
              "      <th></th>\n",
              "      <th>AID</th>\n",
              "      <th>BIO_SEX</th>\n",
              "      <th>agew1</th>\n",
              "      <th>IMONTH4</th>\n",
              "      <th>IDAY4</th>\n",
              "      <th>IYEAR4</th>\n",
              "      <th>MACNO4</th>\n",
              "      <th>INTID4</th>\n",
              "      <th>BIO_SEX4</th>\n",
              "      <th>VERSION4</th>\n",
              "      <th>...</th>\n",
              "      <th>H4EO5C</th>\n",
              "      <th>H4EO5D</th>\n",
              "      <th>H4EO5E</th>\n",
              "      <th>H4EO5F</th>\n",
              "      <th>H4EO5G</th>\n",
              "      <th>H4EO5H</th>\n",
              "      <th>H4EO5I</th>\n",
              "      <th>H4EO5J</th>\n",
              "      <th>H4EO6</th>\n",
              "      <th>H4EO7</th>\n",
              "    </tr>\n",
              "  </thead>\n",
              "  <tbody>\n",
              "    <tr>\n",
              "      <th>0</th>\n",
              "      <td>5710027</td>\n",
              "      <td>2</td>\n",
              "      <td></td>\n",
              "      <td></td>\n",
              "      <td></td>\n",
              "      <td></td>\n",
              "      <td></td>\n",
              "      <td></td>\n",
              "      <td></td>\n",
              "      <td></td>\n",
              "      <td>...</td>\n",
              "      <td></td>\n",
              "      <td></td>\n",
              "      <td></td>\n",
              "      <td></td>\n",
              "      <td></td>\n",
              "      <td></td>\n",
              "      <td></td>\n",
              "      <td></td>\n",
              "      <td></td>\n",
              "      <td></td>\n",
              "    </tr>\n",
              "    <tr>\n",
              "      <th>1</th>\n",
              "      <td>5710131</td>\n",
              "      <td>2</td>\n",
              "      <td>19.42739726</td>\n",
              "      <td>5</td>\n",
              "      <td>6</td>\n",
              "      <td>2008</td>\n",
              "      <td>2288160</td>\n",
              "      <td>160</td>\n",
              "      <td>2</td>\n",
              "      <td>V5.4</td>\n",
              "      <td>...</td>\n",
              "      <td>0</td>\n",
              "      <td>0</td>\n",
              "      <td>0</td>\n",
              "      <td>0</td>\n",
              "      <td>0</td>\n",
              "      <td>0</td>\n",
              "      <td>0</td>\n",
              "      <td>0</td>\n",
              "      <td>2</td>\n",
              "      <td>1</td>\n",
              "    </tr>\n",
              "    <tr>\n",
              "      <th>2</th>\n",
              "      <td>5710317</td>\n",
              "      <td>1</td>\n",
              "      <td></td>\n",
              "      <td></td>\n",
              "      <td></td>\n",
              "      <td></td>\n",
              "      <td></td>\n",
              "      <td></td>\n",
              "      <td></td>\n",
              "      <td></td>\n",
              "      <td>...</td>\n",
              "      <td></td>\n",
              "      <td></td>\n",
              "      <td></td>\n",
              "      <td></td>\n",
              "      <td></td>\n",
              "      <td></td>\n",
              "      <td></td>\n",
              "      <td></td>\n",
              "      <td></td>\n",
              "      <td></td>\n",
              "    </tr>\n",
              "    <tr>\n",
              "      <th>3</th>\n",
              "      <td>5710386</td>\n",
              "      <td>1</td>\n",
              "      <td>20.43013699</td>\n",
              "      <td>5</td>\n",
              "      <td>22</td>\n",
              "      <td>2008</td>\n",
              "      <td>2288238</td>\n",
              "      <td>238</td>\n",
              "      <td>1</td>\n",
              "      <td>V5.4</td>\n",
              "      <td>...</td>\n",
              "      <td>0</td>\n",
              "      <td>0</td>\n",
              "      <td>0</td>\n",
              "      <td>0</td>\n",
              "      <td>0</td>\n",
              "      <td>0</td>\n",
              "      <td>0</td>\n",
              "      <td>0</td>\n",
              "      <td>4</td>\n",
              "      <td>1</td>\n",
              "    </tr>\n",
              "    <tr>\n",
              "      <th>4</th>\n",
              "      <td>5710455</td>\n",
              "      <td>2</td>\n",
              "      <td></td>\n",
              "      <td></td>\n",
              "      <td></td>\n",
              "      <td></td>\n",
              "      <td></td>\n",
              "      <td></td>\n",
              "      <td></td>\n",
              "      <td></td>\n",
              "      <td>...</td>\n",
              "      <td></td>\n",
              "      <td></td>\n",
              "      <td></td>\n",
              "      <td></td>\n",
              "      <td></td>\n",
              "      <td></td>\n",
              "      <td></td>\n",
              "      <td></td>\n",
              "      <td></td>\n",
              "      <td></td>\n",
              "    </tr>\n",
              "  </tbody>\n",
              "</table>\n",
              "<p>5 rows × 976 columns</p>\n",
              "</div>\n",
              "      <button class=\"colab-df-convert\" onclick=\"convertToInteractive('df-073d3398-a494-42af-89fe-3f1629b95ba8')\"\n",
              "              title=\"Convert this dataframe to an interactive table.\"\n",
              "              style=\"display:none;\">\n",
              "        \n",
              "  <svg xmlns=\"http://www.w3.org/2000/svg\" height=\"24px\"viewBox=\"0 0 24 24\"\n",
              "       width=\"24px\">\n",
              "    <path d=\"M0 0h24v24H0V0z\" fill=\"none\"/>\n",
              "    <path d=\"M18.56 5.44l.94 2.06.94-2.06 2.06-.94-2.06-.94-.94-2.06-.94 2.06-2.06.94zm-11 1L8.5 8.5l.94-2.06 2.06-.94-2.06-.94L8.5 2.5l-.94 2.06-2.06.94zm10 10l.94 2.06.94-2.06 2.06-.94-2.06-.94-.94-2.06-.94 2.06-2.06.94z\"/><path d=\"M17.41 7.96l-1.37-1.37c-.4-.4-.92-.59-1.43-.59-.52 0-1.04.2-1.43.59L10.3 9.45l-7.72 7.72c-.78.78-.78 2.05 0 2.83L4 21.41c.39.39.9.59 1.41.59.51 0 1.02-.2 1.41-.59l7.78-7.78 2.81-2.81c.8-.78.8-2.07 0-2.86zM5.41 20L4 18.59l7.72-7.72 1.47 1.35L5.41 20z\"/>\n",
              "  </svg>\n",
              "      </button>\n",
              "      \n",
              "  <style>\n",
              "    .colab-df-container {\n",
              "      display:flex;\n",
              "      flex-wrap:wrap;\n",
              "      gap: 12px;\n",
              "    }\n",
              "\n",
              "    .colab-df-convert {\n",
              "      background-color: #E8F0FE;\n",
              "      border: none;\n",
              "      border-radius: 50%;\n",
              "      cursor: pointer;\n",
              "      display: none;\n",
              "      fill: #1967D2;\n",
              "      height: 32px;\n",
              "      padding: 0 0 0 0;\n",
              "      width: 32px;\n",
              "    }\n",
              "\n",
              "    .colab-df-convert:hover {\n",
              "      background-color: #E2EBFA;\n",
              "      box-shadow: 0px 1px 2px rgba(60, 64, 67, 0.3), 0px 1px 3px 1px rgba(60, 64, 67, 0.15);\n",
              "      fill: #174EA6;\n",
              "    }\n",
              "\n",
              "    [theme=dark] .colab-df-convert {\n",
              "      background-color: #3B4455;\n",
              "      fill: #D2E3FC;\n",
              "    }\n",
              "\n",
              "    [theme=dark] .colab-df-convert:hover {\n",
              "      background-color: #434B5C;\n",
              "      box-shadow: 0px 1px 3px 1px rgba(0, 0, 0, 0.15);\n",
              "      filter: drop-shadow(0px 1px 2px rgba(0, 0, 0, 0.3));\n",
              "      fill: #FFFFFF;\n",
              "    }\n",
              "  </style>\n",
              "\n",
              "      <script>\n",
              "        const buttonEl =\n",
              "          document.querySelector('#df-073d3398-a494-42af-89fe-3f1629b95ba8 button.colab-df-convert');\n",
              "        buttonEl.style.display =\n",
              "          google.colab.kernel.accessAllowed ? 'block' : 'none';\n",
              "\n",
              "        async function convertToInteractive(key) {\n",
              "          const element = document.querySelector('#df-073d3398-a494-42af-89fe-3f1629b95ba8');\n",
              "          const dataTable =\n",
              "            await google.colab.kernel.invokeFunction('convertToInteractive',\n",
              "                                                     [key], {});\n",
              "          if (!dataTable) return;\n",
              "\n",
              "          const docLinkHtml = 'Like what you see? Visit the ' +\n",
              "            '<a target=\"_blank\" href=https://colab.research.google.com/notebooks/data_table.ipynb>data table notebook</a>'\n",
              "            + ' to learn more about interactive tables.';\n",
              "          element.innerHTML = '';\n",
              "          dataTable['output_type'] = 'display_data';\n",
              "          await google.colab.output.renderOutput(dataTable, element);\n",
              "          const docLink = document.createElement('div');\n",
              "          docLink.innerHTML = docLinkHtml;\n",
              "          element.appendChild(docLink);\n",
              "        }\n",
              "      </script>\n",
              "    </div>\n",
              "  </div>\n",
              "  "
            ]
          },
          "metadata": {},
          "execution_count": 58
        }
      ]
    },
    {
      "cell_type": "markdown",
      "source": [
        "Codebook 1:![currentweightinpounds.png](data:image/png;base64,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)"
      ],
      "metadata": {
        "id": "P2Vacu7L52PB"
      }
    },
    {
      "cell_type": "code",
      "source": [
        "#Manage data for variable 1 (current_weight)"
      ],
      "metadata": {
        "id": "BGXegclY57pS"
      },
      "execution_count": 74,
      "outputs": []
    },
    {
      "cell_type": "code",
      "source": [
        "#Check the data type for H4GH6\n",
        "df['H4GH6'].dtype"
      ],
      "metadata": {
        "colab": {
          "base_uri": "https://localhost:8080/"
        },
        "id": "xcQTLzvV2uhq",
        "outputId": "bfb160bd-5e1b-4a5b-db10-c636b764ca9d"
      },
      "execution_count": 79,
      "outputs": [
        {
          "output_type": "execute_result",
          "data": {
            "text/plain": [
              "dtype('O')"
            ]
          },
          "metadata": {},
          "execution_count": 79
        }
      ]
    },
    {
      "cell_type": "code",
      "source": [
        "#Create new variable 'current_weight' and check the dtype\n",
        "df['current_weight'] = df['H4GH6']\n",
        "df['current_weight'].dtype"
      ],
      "metadata": {
        "colab": {
          "base_uri": "https://localhost:8080/"
        },
        "id": "Ls_xuoxu2uj9",
        "outputId": "2ee79115-c5eb-46c4-8679-3c7490a56ae5"
      },
      "execution_count": 80,
      "outputs": [
        {
          "output_type": "execute_result",
          "data": {
            "text/plain": [
              "dtype('O')"
            ]
          },
          "metadata": {},
          "execution_count": 80
        }
      ]
    },
    {
      "cell_type": "code",
      "source": [
        "#Change data type to numeric (integer)\n",
        "df['current_weight'] = pd.to_numeric( df['current_weight'] , errors='coerce' )\n",
        "df['current_weight'].dtype"
      ],
      "metadata": {
        "colab": {
          "base_uri": "https://localhost:8080/"
        },
        "id": "ULvcC8-I2umI",
        "outputId": "f9d8248a-ebfd-4ebc-e1a8-731bbead5550"
      },
      "execution_count": 81,
      "outputs": [
        {
          "output_type": "execute_result",
          "data": {
            "text/plain": [
              "dtype('float64')"
            ]
          },
          "metadata": {},
          "execution_count": 81
        }
      ]
    },
    {
      "cell_type": "code",
      "source": [
        "#Remove missing values and refused and I don't know (Check max)\n",
        "df['current_weight'] = df['current_weight'].loc[ df['current_weight'] < 996]\n",
        "df['current_weight'].max()"
      ],
      "metadata": {
        "colab": {
          "base_uri": "https://localhost:8080/"
        },
        "id": "zqzbjqMI2uoI",
        "outputId": "eef17506-c8f8-491f-e717-cfe7f5e44445"
      },
      "execution_count": 82,
      "outputs": [
        {
          "output_type": "execute_result",
          "data": {
            "text/plain": [
              "525.0"
            ]
          },
          "metadata": {},
          "execution_count": 82
        }
      ]
    },
    {
      "cell_type": "code",
      "source": [
        "#Check average\n",
        "df['current_weight'].mean()"
      ],
      "metadata": {
        "colab": {
          "base_uri": "https://localhost:8080/"
        },
        "id": "8HqxvxOt2uqE",
        "outputId": "4596ef1e-a965-4ef1-a47d-b417b1f22683"
      },
      "execution_count": 83,
      "outputs": [
        {
          "output_type": "execute_result",
          "data": {
            "text/plain": [
              "184.05004965243296"
            ]
          },
          "metadata": {},
          "execution_count": 83
        }
      ]
    },
    {
      "cell_type": "code",
      "source": [
        "pip install researchpy"
      ],
      "metadata": {
        "colab": {
          "base_uri": "https://localhost:8080/"
        },
        "id": "ZQYCBl3p2usn",
        "outputId": "98a033ac-ada8-4b93-9d8d-2db29ba1a604"
      },
      "execution_count": 84,
      "outputs": [
        {
          "output_type": "stream",
          "name": "stdout",
          "text": [
            "Looking in indexes: https://pypi.org/simple, https://us-python.pkg.dev/colab-wheels/public/simple/\n",
            "Requirement already satisfied: researchpy in /usr/local/lib/python3.10/dist-packages (0.3.5)\n",
            "Requirement already satisfied: pandas in /usr/local/lib/python3.10/dist-packages (from researchpy) (1.5.3)\n",
            "Requirement already satisfied: patsy in /usr/local/lib/python3.10/dist-packages (from researchpy) (0.5.3)\n",
            "Requirement already satisfied: statsmodels in /usr/local/lib/python3.10/dist-packages (from researchpy) (0.13.5)\n",
            "Requirement already satisfied: numpy in /usr/local/lib/python3.10/dist-packages (from researchpy) (1.22.4)\n",
            "Requirement already satisfied: scipy in /usr/local/lib/python3.10/dist-packages (from researchpy) (1.10.1)\n",
            "Requirement already satisfied: pytz>=2020.1 in /usr/local/lib/python3.10/dist-packages (from pandas->researchpy) (2022.7.1)\n",
            "Requirement already satisfied: python-dateutil>=2.8.1 in /usr/local/lib/python3.10/dist-packages (from pandas->researchpy) (2.8.2)\n",
            "Requirement already satisfied: six in /usr/local/lib/python3.10/dist-packages (from patsy->researchpy) (1.16.0)\n",
            "Requirement already satisfied: packaging>=21.3 in /usr/local/lib/python3.10/dist-packages (from statsmodels->researchpy) (23.1)\n"
          ]
        }
      ]
    },
    {
      "cell_type": "code",
      "source": [
        "#import researchPy\n",
        "import researchpy as rp"
      ],
      "metadata": {
        "id": "tN9aLuS824AF"
      },
      "execution_count": 85,
      "outputs": []
    },
    {
      "cell_type": "code",
      "source": [
        "#Create summary stats using ResearchPy\n",
        "rp.summarize(df['current_weight'])"
      ],
      "metadata": {
        "colab": {
          "base_uri": "https://localhost:8080/",
          "height": 81
        },
        "id": "Q5kKWgS124CZ",
        "outputId": "f80645e5-cda8-4de0-b0f9-21beaeb4d0ab"
      },
      "execution_count": 88,
      "outputs": [
        {
          "output_type": "execute_result",
          "data": {
            "text/plain": [
              "             Name     N    Mean Median   Variance       SD      SE  \\\n",
              "0  current_weight  5035  184.05  178.0  2434.1699  49.3373  0.6953   \n",
              "\n",
              "     95% Conf. Interval  \n",
              "0  [182.6869, 185.4132]  "
            ],
            "text/html": [
              "\n",
              "  <div id=\"df-231695f4-d035-4492-95ec-01ae999bab9b\">\n",
              "    <div class=\"colab-df-container\">\n",
              "      <div>\n",
              "<style scoped>\n",
              "    .dataframe tbody tr th:only-of-type {\n",
              "        vertical-align: middle;\n",
              "    }\n",
              "\n",
              "    .dataframe tbody tr th {\n",
              "        vertical-align: top;\n",
              "    }\n",
              "\n",
              "    .dataframe thead th {\n",
              "        text-align: right;\n",
              "    }\n",
              "</style>\n",
              "<table border=\"1\" class=\"dataframe\">\n",
              "  <thead>\n",
              "    <tr style=\"text-align: right;\">\n",
              "      <th></th>\n",
              "      <th>Name</th>\n",
              "      <th>N</th>\n",
              "      <th>Mean</th>\n",
              "      <th>Median</th>\n",
              "      <th>Variance</th>\n",
              "      <th>SD</th>\n",
              "      <th>SE</th>\n",
              "      <th>95% Conf. Interval</th>\n",
              "    </tr>\n",
              "  </thead>\n",
              "  <tbody>\n",
              "    <tr>\n",
              "      <th>0</th>\n",
              "      <td>current_weight</td>\n",
              "      <td>5035</td>\n",
              "      <td>184.05</td>\n",
              "      <td>178.0</td>\n",
              "      <td>2434.1699</td>\n",
              "      <td>49.3373</td>\n",
              "      <td>0.6953</td>\n",
              "      <td>[182.6869, 185.4132]</td>\n",
              "    </tr>\n",
              "  </tbody>\n",
              "</table>\n",
              "</div>\n",
              "      <button class=\"colab-df-convert\" onclick=\"convertToInteractive('df-231695f4-d035-4492-95ec-01ae999bab9b')\"\n",
              "              title=\"Convert this dataframe to an interactive table.\"\n",
              "              style=\"display:none;\">\n",
              "        \n",
              "  <svg xmlns=\"http://www.w3.org/2000/svg\" height=\"24px\"viewBox=\"0 0 24 24\"\n",
              "       width=\"24px\">\n",
              "    <path d=\"M0 0h24v24H0V0z\" fill=\"none\"/>\n",
              "    <path d=\"M18.56 5.44l.94 2.06.94-2.06 2.06-.94-2.06-.94-.94-2.06-.94 2.06-2.06.94zm-11 1L8.5 8.5l.94-2.06 2.06-.94-2.06-.94L8.5 2.5l-.94 2.06-2.06.94zm10 10l.94 2.06.94-2.06 2.06-.94-2.06-.94-.94-2.06-.94 2.06-2.06.94z\"/><path d=\"M17.41 7.96l-1.37-1.37c-.4-.4-.92-.59-1.43-.59-.52 0-1.04.2-1.43.59L10.3 9.45l-7.72 7.72c-.78.78-.78 2.05 0 2.83L4 21.41c.39.39.9.59 1.41.59.51 0 1.02-.2 1.41-.59l7.78-7.78 2.81-2.81c.8-.78.8-2.07 0-2.86zM5.41 20L4 18.59l7.72-7.72 1.47 1.35L5.41 20z\"/>\n",
              "  </svg>\n",
              "      </button>\n",
              "      \n",
              "  <style>\n",
              "    .colab-df-container {\n",
              "      display:flex;\n",
              "      flex-wrap:wrap;\n",
              "      gap: 12px;\n",
              "    }\n",
              "\n",
              "    .colab-df-convert {\n",
              "      background-color: #E8F0FE;\n",
              "      border: none;\n",
              "      border-radius: 50%;\n",
              "      cursor: pointer;\n",
              "      display: none;\n",
              "      fill: #1967D2;\n",
              "      height: 32px;\n",
              "      padding: 0 0 0 0;\n",
              "      width: 32px;\n",
              "    }\n",
              "\n",
              "    .colab-df-convert:hover {\n",
              "      background-color: #E2EBFA;\n",
              "      box-shadow: 0px 1px 2px rgba(60, 64, 67, 0.3), 0px 1px 3px 1px rgba(60, 64, 67, 0.15);\n",
              "      fill: #174EA6;\n",
              "    }\n",
              "\n",
              "    [theme=dark] .colab-df-convert {\n",
              "      background-color: #3B4455;\n",
              "      fill: #D2E3FC;\n",
              "    }\n",
              "\n",
              "    [theme=dark] .colab-df-convert:hover {\n",
              "      background-color: #434B5C;\n",
              "      box-shadow: 0px 1px 3px 1px rgba(0, 0, 0, 0.15);\n",
              "      filter: drop-shadow(0px 1px 2px rgba(0, 0, 0, 0.3));\n",
              "      fill: #FFFFFF;\n",
              "    }\n",
              "  </style>\n",
              "\n",
              "      <script>\n",
              "        const buttonEl =\n",
              "          document.querySelector('#df-231695f4-d035-4492-95ec-01ae999bab9b button.colab-df-convert');\n",
              "        buttonEl.style.display =\n",
              "          google.colab.kernel.accessAllowed ? 'block' : 'none';\n",
              "\n",
              "        async function convertToInteractive(key) {\n",
              "          const element = document.querySelector('#df-231695f4-d035-4492-95ec-01ae999bab9b');\n",
              "          const dataTable =\n",
              "            await google.colab.kernel.invokeFunction('convertToInteractive',\n",
              "                                                     [key], {});\n",
              "          if (!dataTable) return;\n",
              "\n",
              "          const docLinkHtml = 'Like what you see? Visit the ' +\n",
              "            '<a target=\"_blank\" href=https://colab.research.google.com/notebooks/data_table.ipynb>data table notebook</a>'\n",
              "            + ' to learn more about interactive tables.';\n",
              "          element.innerHTML = '';\n",
              "          dataTable['output_type'] = 'display_data';\n",
              "          await google.colab.output.renderOutput(dataTable, element);\n",
              "          const docLink = document.createElement('div');\n",
              "          docLink.innerHTML = docLinkHtml;\n",
              "          element.appendChild(docLink);\n",
              "        }\n",
              "      </script>\n",
              "    </div>\n",
              "  </div>\n",
              "  "
            ]
          },
          "metadata": {},
          "execution_count": 88
        }
      ]
    },
    {
      "cell_type": "code",
      "source": [
        "#Use describe()\n",
        "df['current_weight'].describe()"
      ],
      "metadata": {
        "colab": {
          "base_uri": "https://localhost:8080/"
        },
        "id": "SBxgbuIf24Hl",
        "outputId": "b4765dc1-affa-4d21-a375-6b239cdfadf2"
      },
      "execution_count": 89,
      "outputs": [
        {
          "output_type": "execute_result",
          "data": {
            "text/plain": [
              "count    5035.000000\n",
              "mean      184.050050\n",
              "std        49.337308\n",
              "min        18.000000\n",
              "25%       150.000000\n",
              "50%       178.000000\n",
              "75%       211.000000\n",
              "max       525.000000\n",
              "Name: current_weight, dtype: float64"
            ]
          },
          "metadata": {},
          "execution_count": 89
        }
      ]
    },
    {
      "cell_type": "code",
      "source": [
        "#Graphs and tables or statistics"
      ],
      "metadata": {
        "id": "Q1Pv5DMz5-2C"
      },
      "execution_count": null,
      "outputs": []
    },
    {
      "cell_type": "code",
      "source": [
        "import seaborn as sns"
      ],
      "metadata": {
        "id": "ALcngyTt3GCg"
      },
      "execution_count": 90,
      "outputs": []
    },
    {
      "cell_type": "code",
      "source": [
        "#Create a histogram with normal curve [kde =True]\n",
        "sns.histplot(x ='current_weight' , data=df,  bins = 15 , kde =True)"
      ],
      "metadata": {
        "colab": {
          "base_uri": "https://localhost:8080/",
          "height": 468
        },
        "id": "K87KDG7i3GE5",
        "outputId": "00c66607-45a6-4b0a-fe31-c16283920701"
      },
      "execution_count": 91,
      "outputs": [
        {
          "output_type": "execute_result",
          "data": {
            "text/plain": [
              "<Axes: xlabel='current_weight', ylabel='Count'>"
            ]
          },
          "metadata": {},
          "execution_count": 91
        },
        {
          "output_type": "display_data",
          "data": {
            "text/plain": [
              "<Figure size 640x480 with 1 Axes>"
            ],
            "image/png": "[encoded data removed]"
          },
          "metadata": {}
        }
      ]
    },
    {
      "cell_type": "code",
      "source": [
        "#Create a boxplot\n",
        "sns.boxplot(x='current_weight', data = df)"
      ],
      "metadata": {
        "colab": {
          "base_uri": "https://localhost:8080/",
          "height": 468
        },
        "id": "2EDnzIEf3GHT",
        "outputId": "80628175-81c1-47ed-a0db-5a91d917eaba"
      },
      "execution_count": 92,
      "outputs": [
        {
          "output_type": "execute_result",
          "data": {
            "text/plain": [
              "<Axes: xlabel='current_weight'>"
            ]
          },
          "metadata": {},
          "execution_count": 92
        },
        {
          "output_type": "display_data",
          "data": {
            "text/plain": [
              "<Figure size 640x480 with 1 Axes>"
            ],
            "image/png": "[encoded data removed]"
          },
          "metadata": {}
        }
      ]
    },
    {
      "cell_type": "markdown",
      "source": [
        "Codebook 2:"
      ],
      "metadata": {
        "id": "wZC59jy36Ecy"
      }
    },
    {
      "cell_type": "code",
      "source": [
        "#Manage data for variable 2 (been_in_military)"
      ],
      "metadata": {
        "id": "1N6BlzE76JZJ"
      },
      "execution_count": 59,
      "outputs": []
    },
    {
      "cell_type": "code",
      "source": [
        "#frequency table for H4MI1\n",
        "df['H4MI1'].value_counts()"
      ],
      "metadata": {
        "colab": {
          "base_uri": "https://localhost:8080/"
        },
        "id": "suGDdtm8uV9y",
        "outputId": "5d478f81-0883-4339-c7e2-b9fc85486f39"
      },
      "execution_count": 60,
      "outputs": [
        {
          "output_type": "execute_result",
          "data": {
            "text/plain": [
              "0    4763\n",
              "     1390\n",
              "1     351\n",
              "Name: H4MI1, dtype: int64"
            ]
          },
          "metadata": {},
          "execution_count": 60
        }
      ]
    },
    {
      "cell_type": "code",
      "source": [
        "#Create new variable 'been_in_military'\n",
        "df['been_in_military'] = df['H4MI1']\n",
        "df['been_in_military'].value_counts()"
      ],
      "metadata": {
        "colab": {
          "base_uri": "https://localhost:8080/"
        },
        "id": "2l1INlQauWAV",
        "outputId": "ac97f68f-31cd-44bf-bf6c-d61e7da68079"
      },
      "execution_count": 61,
      "outputs": [
        {
          "output_type": "execute_result",
          "data": {
            "text/plain": [
              "0    4763\n",
              "     1390\n",
              "1     351\n",
              "Name: been_in_military, dtype: int64"
            ]
          },
          "metadata": {},
          "execution_count": 61
        }
      ]
    },
    {
      "cell_type": "code",
      "source": [
        "#Remove missing values\n",
        "df['been_in_military'] = df['been_in_military'].loc[ df['been_in_military'] !=' ']\n",
        "df['been_in_military'].value_counts()"
      ],
      "metadata": {
        "colab": {
          "base_uri": "https://localhost:8080/"
        },
        "id": "BxgJWvpJuWCY",
        "outputId": "3d74d712-14bf-4523-ea7b-4cf359339904"
      },
      "execution_count": 62,
      "outputs": [
        {
          "output_type": "execute_result",
          "data": {
            "text/plain": [
              "0    4763\n",
              "1     351\n",
              "Name: been_in_military, dtype: int64"
            ]
          },
          "metadata": {},
          "execution_count": 62
        }
      ]
    },
    {
      "cell_type": "code",
      "source": [
        "#Remove response of refused and I don't know (6 and 8)\n",
        "df['been_in_military'] = df['been_in_military'].loc[ df['been_in_military'] !='6']\n",
        "df['been_in_military'] = df['been_in_military'].loc[ df['been_in_military'] !='8']\n",
        "df['been_in_military'].value_counts()"
      ],
      "metadata": {
        "colab": {
          "base_uri": "https://localhost:8080/"
        },
        "id": "n9IdztfRuWGy",
        "outputId": "293b530c-7ac5-47e1-d272-60684c2be968"
      },
      "execution_count": 63,
      "outputs": [
        {
          "output_type": "execute_result",
          "data": {
            "text/plain": [
              "0    4763\n",
              "1     351\n",
              "Name: been_in_military, dtype: int64"
            ]
          },
          "metadata": {},
          "execution_count": 63
        }
      ]
    },
    {
      "cell_type": "code",
      "source": [
        "#Format names from numbers\n",
        "df['been_in_military'].replace(['0','1'] , ['NO','YES'], inplace = True)\n",
        "df['been_in_military'].value_counts()"
      ],
      "metadata": {
        "colab": {
          "base_uri": "https://localhost:8080/"
        },
        "id": "GhK_BpiIwJkw",
        "outputId": "56c0ffbf-5326-4988-bca3-3c34c1e74ef8"
      },
      "execution_count": 64,
      "outputs": [
        {
          "output_type": "execute_result",
          "data": {
            "text/plain": [
              "NO     4763\n",
              "YES     351\n",
              "Name: been_in_military, dtype: int64"
            ]
          },
          "metadata": {},
          "execution_count": 64
        }
      ]
    },
    {
      "cell_type": "code",
      "source": [
        "pip install researchpy"
      ],
      "metadata": {
        "colab": {
          "base_uri": "https://localhost:8080/"
        },
        "id": "UQXcdLttuWJA",
        "outputId": "45ffd6ac-e19f-46e2-9836-3e850f58d960"
      },
      "execution_count": 65,
      "outputs": [
        {
          "output_type": "stream",
          "name": "stdout",
          "text": [
            "Looking in indexes: https://pypi.org/simple, https://us-python.pkg.dev/colab-wheels/public/simple/\n",
            "Requirement already satisfied: researchpy in /usr/local/lib/python3.10/dist-packages (0.3.5)\n",
            "Requirement already satisfied: pandas in /usr/local/lib/python3.10/dist-packages (from researchpy) (1.5.3)\n",
            "Requirement already satisfied: statsmodels in /usr/local/lib/python3.10/dist-packages (from researchpy) (0.13.5)\n",
            "Requirement already satisfied: scipy in /usr/local/lib/python3.10/dist-packages (from researchpy) (1.10.1)\n",
            "Requirement already satisfied: numpy in /usr/local/lib/python3.10/dist-packages (from researchpy) (1.22.4)\n",
            "Requirement already satisfied: patsy in /usr/local/lib/python3.10/dist-packages (from researchpy) (0.5.3)\n",
            "Requirement already satisfied: python-dateutil>=2.8.1 in /usr/local/lib/python3.10/dist-packages (from pandas->researchpy) (2.8.2)\n",
            "Requirement already satisfied: pytz>=2020.1 in /usr/local/lib/python3.10/dist-packages (from pandas->researchpy) (2022.7.1)\n",
            "Requirement already satisfied: six in /usr/local/lib/python3.10/dist-packages (from patsy->researchpy) (1.16.0)\n",
            "Requirement already satisfied: packaging>=21.3 in /usr/local/lib/python3.10/dist-packages (from statsmodels->researchpy) (23.1)\n"
          ]
        }
      ]
    },
    {
      "cell_type": "code",
      "source": [
        "#import researchPy\n",
        "import researchpy as rp"
      ],
      "metadata": {
        "id": "Hpkk7u4buWK_"
      },
      "execution_count": 66,
      "outputs": []
    },
    {
      "cell_type": "code",
      "source": [
        "#Create a Frequency table using ResearchPy\n",
        "rp.summary_cat(df['been_in_military'])"
      ],
      "metadata": {
        "colab": {
          "base_uri": "https://localhost:8080/",
          "height": 112
        },
        "id": "D_IYwfy9wN6Z",
        "outputId": "428ef638-0e62-4cee-e03d-1b56c7904888"
      },
      "execution_count": 67,
      "outputs": [
        {
          "output_type": "execute_result",
          "data": {
            "text/plain": [
              "           Variable Outcome  Count  Percent\n",
              "0  been_in_military      NO   4763    93.14\n",
              "1                       YES    351     6.86"
            ],
            "text/html": [
              "\n",
              "  <div id=\"df-d159fee1-22a6-4148-8af6-0c5f082ce6d0\">\n",
              "    <div class=\"colab-df-container\">\n",
              "      <div>\n",
              "<style scoped>\n",
              "    .dataframe tbody tr th:only-of-type {\n",
              "        vertical-align: middle;\n",
              "    }\n",
              "\n",
              "    .dataframe tbody tr th {\n",
              "        vertical-align: top;\n",
              "    }\n",
              "\n",
              "    .dataframe thead th {\n",
              "        text-align: right;\n",
              "    }\n",
              "</style>\n",
              "<table border=\"1\" class=\"dataframe\">\n",
              "  <thead>\n",
              "    <tr style=\"text-align: right;\">\n",
              "      <th></th>\n",
              "      <th>Variable</th>\n",
              "      <th>Outcome</th>\n",
              "      <th>Count</th>\n",
              "      <th>Percent</th>\n",
              "    </tr>\n",
              "  </thead>\n",
              "  <tbody>\n",
              "    <tr>\n",
              "      <th>0</th>\n",
              "      <td>been_in_military</td>\n",
              "      <td>NO</td>\n",
              "      <td>4763</td>\n",
              "      <td>93.14</td>\n",
              "    </tr>\n",
              "    <tr>\n",
              "      <th>1</th>\n",
              "      <td></td>\n",
              "      <td>YES</td>\n",
              "      <td>351</td>\n",
              "      <td>6.86</td>\n",
              "    </tr>\n",
              "  </tbody>\n",
              "</table>\n",
              "</div>\n",
              "      <button class=\"colab-df-convert\" onclick=\"convertToInteractive('df-d159fee1-22a6-4148-8af6-0c5f082ce6d0')\"\n",
              "              title=\"Convert this dataframe to an interactive table.\"\n",
              "              style=\"display:none;\">\n",
              "        \n",
              "  <svg xmlns=\"http://www.w3.org/2000/svg\" height=\"24px\"viewBox=\"0 0 24 24\"\n",
              "       width=\"24px\">\n",
              "    <path d=\"M0 0h24v24H0V0z\" fill=\"none\"/>\n",
              "    <path d=\"M18.56 5.44l.94 2.06.94-2.06 2.06-.94-2.06-.94-.94-2.06-.94 2.06-2.06.94zm-11 1L8.5 8.5l.94-2.06 2.06-.94-2.06-.94L8.5 2.5l-.94 2.06-2.06.94zm10 10l.94 2.06.94-2.06 2.06-.94-2.06-.94-.94-2.06-.94 2.06-2.06.94z\"/><path d=\"M17.41 7.96l-1.37-1.37c-.4-.4-.92-.59-1.43-.59-.52 0-1.04.2-1.43.59L10.3 9.45l-7.72 7.72c-.78.78-.78 2.05 0 2.83L4 21.41c.39.39.9.59 1.41.59.51 0 1.02-.2 1.41-.59l7.78-7.78 2.81-2.81c.8-.78.8-2.07 0-2.86zM5.41 20L4 18.59l7.72-7.72 1.47 1.35L5.41 20z\"/>\n",
              "  </svg>\n",
              "      </button>\n",
              "      \n",
              "  <style>\n",
              "    .colab-df-container {\n",
              "      display:flex;\n",
              "      flex-wrap:wrap;\n",
              "      gap: 12px;\n",
              "    }\n",
              "\n",
              "    .colab-df-convert {\n",
              "      background-color: #E8F0FE;\n",
              "      border: none;\n",
              "      border-radius: 50%;\n",
              "      cursor: pointer;\n",
              "      display: none;\n",
              "      fill: #1967D2;\n",
              "      height: 32px;\n",
              "      padding: 0 0 0 0;\n",
              "      width: 32px;\n",
              "    }\n",
              "\n",
              "    .colab-df-convert:hover {\n",
              "      background-color: #E2EBFA;\n",
              "      box-shadow: 0px 1px 2px rgba(60, 64, 67, 0.3), 0px 1px 3px 1px rgba(60, 64, 67, 0.15);\n",
              "      fill: #174EA6;\n",
              "    }\n",
              "\n",
              "    [theme=dark] .colab-df-convert {\n",
              "      background-color: #3B4455;\n",
              "      fill: #D2E3FC;\n",
              "    }\n",
              "\n",
              "    [theme=dark] .colab-df-convert:hover {\n",
              "      background-color: #434B5C;\n",
              "      box-shadow: 0px 1px 3px 1px rgba(0, 0, 0, 0.15);\n",
              "      filter: drop-shadow(0px 1px 2px rgba(0, 0, 0, 0.3));\n",
              "      fill: #FFFFFF;\n",
              "    }\n",
              "  </style>\n",
              "\n",
              "      <script>\n",
              "        const buttonEl =\n",
              "          document.querySelector('#df-d159fee1-22a6-4148-8af6-0c5f082ce6d0 button.colab-df-convert');\n",
              "        buttonEl.style.display =\n",
              "          google.colab.kernel.accessAllowed ? 'block' : 'none';\n",
              "\n",
              "        async function convertToInteractive(key) {\n",
              "          const element = document.querySelector('#df-d159fee1-22a6-4148-8af6-0c5f082ce6d0');\n",
              "          const dataTable =\n",
              "            await google.colab.kernel.invokeFunction('convertToInteractive',\n",
              "                                                     [key], {});\n",
              "          if (!dataTable) return;\n",
              "\n",
              "          const docLinkHtml = 'Like what you see? Visit the ' +\n",
              "            '<a target=\"_blank\" href=https://colab.research.google.com/notebooks/data_table.ipynb>data table notebook</a>'\n",
              "            + ' to learn more about interactive tables.';\n",
              "          element.innerHTML = '';\n",
              "          dataTable['output_type'] = 'display_data';\n",
              "          await google.colab.output.renderOutput(dataTable, element);\n",
              "          const docLink = document.createElement('div');\n",
              "          docLink.innerHTML = docLinkHtml;\n",
              "          element.appendChild(docLink);\n",
              "        }\n",
              "      </script>\n",
              "    </div>\n",
              "  </div>\n",
              "  "
            ]
          },
          "metadata": {},
          "execution_count": 67
        }
      ]
    },
    {
      "cell_type": "code",
      "source": [
        "#Graphs and tables or statistics"
      ],
      "metadata": {
        "id": "zLkanovP6L9s"
      },
      "execution_count": 68,
      "outputs": []
    },
    {
      "cell_type": "code",
      "source": [
        "plt.xlabel(\"Been in Military\")\n",
        "plt.ylabel(\"Percent\")\n",
        "plt.title(\"Have you ever been in the military?\")\n",
        "df['been_in_military'].value_counts(normalize = True).plot(kind ='bar', color = 'green', width = 0.2, alpha = 0.5)"
      ],
      "metadata": {
        "colab": {
          "base_uri": "https://localhost:8080/",
          "height": 502
        },
        "id": "iR2mCtCX0yj-",
        "outputId": "e6bb32aa-a088-482e-f462-cf35e34dd5a2"
      },
      "execution_count": 69,
      "outputs": [
        {
          "output_type": "execute_result",
          "data": {
            "text/plain": [
              "<Axes: title={'center': 'Have you ever been in the military?'}, xlabel='Been in Military', ylabel='Percent'>"
            ]
          },
          "metadata": {},
          "execution_count": 69
        },
        {
          "output_type": "display_data",
          "data": {
            "text/plain": [
              "<Figure size 640x480 with 1 Axes>"
            ],
            "image/png": "[encoded data removed]"
          },
          "metadata": {}
        }
      ]
    },
    {
      "cell_type": "code",
      "source": [
        "plt.title(\"Have you ever been in the military?\")\n",
        "df['been_in_military'].value_counts().plot(kind ='pie', autopct='%1.1f%%', colors=['red','green'])"
      ],
      "metadata": {
        "colab": {
          "base_uri": "https://localhost:8080/",
          "height": 446
        },
        "id": "F_002UyC1QqY",
        "outputId": "7787821d-a54c-4b69-cf0b-4eb8803e90e9"
      },
      "execution_count": 73,
      "outputs": [
        {
          "output_type": "execute_result",
          "data": {
            "text/plain": [
              "<Axes: title={'center': 'Have you ever been in the military?'}, ylabel='been_in_military'>"
            ]
          },
          "metadata": {},
          "execution_count": 73
        },
        {
          "output_type": "display_data",
          "data": {
            "text/plain": [
              "<Figure size 640x480 with 1 Axes>"
            ],
            "image/png": "[encoded data removed]"
          },
          "metadata": {}
        }
      ]
    }
  ]
}